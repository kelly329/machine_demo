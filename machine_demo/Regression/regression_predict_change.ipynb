{
 "cells": [
  {
   "cell_type": "code",
   "execution_count": 5,
   "metadata": {},
   "outputs": [
    {
     "name": "stdout",
     "output_type": "stream",
     "text": [
      "0.977788397318\n",
      "[ 1098.8676096   1071.20847161  1016.8077294   1056.73145312  1072.20918028\n",
      "  1072.94781482  1090.50882394  1109.08507361  1114.26666663  1121.61393655\n",
      "  1131.38451564  1128.36163541  1147.09977798  1163.46002696  1134.73735971\n",
      "  1121.36413325  1085.76935731  1100.8030371   1112.5658155   1120.52815709\n",
      "  1133.43568993  1149.07614904  1179.48813135  1185.07208742  1155.52183131\n",
      "  1168.10203122  1168.89231604  1151.98996208  1116.63298379  1113.53897857\n",
      "  1112.19171632  1068.43834048  1040.9031372   1068.30742995  1017.14663092]\n"
     ]
    }
   ],
   "source": [
    "import quandl, math\n",
    "import numpy as np\n",
    "import pandas as pd\n",
    "import datetime\n",
    "import matplotlib.pyplot as plt\n",
    "from matplotlib import style\n",
    "from sklearn import preprocessing, cross_validation, svm\n",
    "from sklearn.linear_model import LinearRegression\n",
    "\n",
    "df = quandl.get(\"WIKI/GOOGL\")\n",
    "df = df[['Adj. Open',  'Adj. High',  'Adj. Low',  'Adj. Close', 'Adj. Volume']]\n",
    "df['HL_PCT'] = (df['Adj. High'] - df['Adj. Low']) / df['Adj. Close'] * 100.0\n",
    "df['PCT_change'] = (df['Adj. Close'] - df['Adj. Open']) / df['Adj. Open'] * 100.0\n",
    "\n",
    "df = df[['Adj. Close', 'HL_PCT', 'PCT_change', 'Adj. Volume']]\n",
    "forecast_col = 'Adj. Close'\n",
    "df.fillna(value=-99999, inplace=True)\n",
    "forecast_out = int(math.ceil(0.01 * len(df)))\n",
    "# 用label代表字段：预测结果\n",
    "# 通过让 Adj. Close 列的数据往前移动1%行来表示\n",
    "df['label'] = df[forecast_col].shift(-forecast_out)\n",
    "\n",
    "X = np.array(df.drop(['label'], 1))\n",
    "X = preprocessing.scale(X)\n",
    "# 生成label列时留下的最后1%行的数据，这些行并没有label数据，因此我们可以拿他们作为预测时用到的输入数据\n",
    "# X_lately变量包含最近的特征\n",
    "X_lately = X[-forecast_out:]\n",
    "# 取数据的前99%\n",
    "X = X[:-forecast_out]\n",
    "df.dropna(inplace=True)\n",
    "y = np.array(df['label'])\n",
    "X_train, X_test, y_train, y_test = cross_validation.train_test_split(X, y, test_size=0.2)\n",
    "\n",
    "clf = LinearRegression(n_jobs=-1)\n",
    "clf.fit(X_train, y_train)\n",
    "confidence = clf.score(X_test, y_test)\n",
    "print(confidence)\n",
    "forecast_set= clf.predict(X_lately)\n",
    "print(forecast_set)\n",
    "style.use('ggplot')\n",
    "# 新加预测列\n",
    "df['Forecast'] = np.nan\n",
    "# 取最后一行的时间索引 iloc函数 \n",
    "# 基于索引位来选取数据集，0:4就是选取 0，1，2，3这四行，需要注意的是这里是前闭后开集合\n",
    "# https://blog.csdn.net/weixin_39501270/article/details/76833836\n",
    "last_date = df.iloc[-1].name\n",
    "last_unix = last_date.timestamp()\n",
    "one_day = 86400\n",
    "next_unix = last_unix + one_day"
   ]
  },
  {
   "cell_type": "code",
   "execution_count": 7,
   "metadata": {},
   "outputs": [],
   "source": [
    "for i in forecast_set:\n",
    "    # 时间戳转换为日期类型\n",
    "    next_date = datetime.datetime.fromtimestamp(next_unix)\n",
    "    next_unix += 86400\n",
    "    # [np.nan for _ in range(len(df.columns) - 1)]生成不包含Forecast字段的列表\n",
    "    # 而[i]是只包含Forecast值的列表\n",
    "    # 上述两个列表拼接在一起就组成了新行，按日期追加到df的下面\n",
    "    df.loc[next_date] = [np.nan for _ in range(len(df.columns)-1)] + [i]  "
   ]
  },
  {
   "cell_type": "code",
   "execution_count": 8,
   "metadata": {},
   "outputs": [
    {
     "data": {
      "image/png": "[encoded data removed]",
      "text/plain": [
       "<matplotlib.figure.Figure at 0x113f3f630>"
      ]
     },
     "metadata": {},
     "output_type": "display_data"
    }
   ],
   "source": [
    "# 开始绘图\n",
    "df['Adj. Close'].plot()\n",
    "df['Forecast'].plot()\n",
    "# 显示图例 https://blog.csdn.net/you_are_my_dream/article/details/53440964\n",
    "plt.legend(loc=4)\n",
    "plt.xlabel('Date')\n",
    "plt.ylabel('Price')\n",
    "plt.show()"
   ]
  },
  {
   "cell_type": "markdown",
   "metadata": {},
   "source": [
    "完成了训练，测试，预测保存参数模块，参考regression_pickle"
   ]
  }
 ],
 "metadata": {
  "kernelspec": {
   "display_name": "Python 3",
   "language": "python",
   "name": "python3"
  },
  "language_info": {
   "codemirror_mode": {
    "name": "ipython",
    "version": 3
   },
   "file_extension": ".py",
   "mimetype": "text/x-python",
   "name": "python",
   "nbconvert_exporter": "python",
   "pygments_lexer": "ipython3",
   "version": "3.6.4"
  }
 },
 "nbformat": 4,
 "nbformat_minor": 2
}
