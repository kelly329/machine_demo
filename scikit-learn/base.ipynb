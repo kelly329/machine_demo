{
 "cells": [
  {
   "cell_type": "markdown",
   "metadata": {},
   "source": [
    "#### 1. 导入必要模块\n",
    "- numpy :构成数据\n",
    "- matplotlib：画图\n",
    "- %matplotlib inline 嵌入图形"
   ]
  },
  {
   "cell_type": "code",
   "execution_count": 1,
   "metadata": {},
   "outputs": [],
   "source": [
    "import numpy as np\n",
    "import matplotlib.pyplot as plt\n",
    "%matplotlib inline"
   ]
  },
  {
   "cell_type": "markdown",
   "metadata": {},
   "source": [
    "#### 2. 构造数据模型\n",
    "- 函数y=0.9np.sin(x1)+ 0.1np.cos(x2)+0.1*x1+3\n",
    "\n",
    "- 其中x1的取值范围是0~50，x2的取值范围是-10~10，\n",
    "- x1和x2的训练集一共有500个，测试集有100个。\n",
    "- 其中，在训练集的上加了一个-0.5~0.5的噪声。生成函数的代码如下："
   ]
  },
  {
   "cell_type": "code",
   "execution_count": 2,
   "metadata": {},
   "outputs": [],
   "source": [
    "def f(x1, x2):\n",
    "    y = 0.9 * np.sin(x1) + 0.1 * np.cos(x2) + 0.1 * x1 + 3\n",
    "    return y"
   ]
  },
  {
   "cell_type": "code",
   "execution_count": 13,
   "metadata": {},
   "outputs": [],
   "source": [
    "def load_data():\n",
    "    x1_train = np.linspace(0,50,500)\n",
    "    x2_train = np.linspace(-10,10,500)\n",
    "    data_train = np.array([[x1,x2,f(x1,x2)\n",
    "            +(np.random.random(1)-0.5)]\n",
    "          for x1,x2 in zip(x1_train,x2_train)])\n",
    "    x1_test = np.linspace(0,50,100)+0.5*np.random.random(100)\n",
    "    x2_test = np.linspace(-10,10,100)+0.02*np.random.random(100)\n",
    "    data_test = np.array([[x1,x2,f(x1,x2)] \n",
    "            for x1,x2 in zip(x1_test,x2_test)])\n",
    "    return data_train, data_test"
   ]
  },
  {
   "cell_type": "markdown",
   "metadata": {},
   "source": [
    "#### 3. 划分数据\n",
    "- x_train=train[: ,:2]：x1,x2为前2列\n",
    "\n",
    "- y_train=train[: ,2]：x1,x2为第3列"
   ]
  },
  {
   "cell_type": "code",
   "execution_count": 14,
   "metadata": {},
   "outputs": [],
   "source": [
    "train,test=load_data()\n",
    "x_train,y_train = train[:,:2], train[:,2]\n",
    "x_test ,y_test = test[:,:2],test[:,2]"
   ]
  },
  {
   "cell_type": "markdown",
   "metadata": {},
   "source": [
    "##### 4. 图像描述数据"
   ]
  },
  {
   "cell_type": "code",
   "execution_count": 15,
   "metadata": {},
   "outputs": [
    {
     "data": {
      "image/png": "[encoded data removed]",
      "text/plain": [
       "<matplotlib.figure.Figure at 0x10fa51940>"
      ]
     },
     "metadata": {},
     "output_type": "display_data"
    }
   ],
   "source": [
    "plt.figure()\n",
    "plt.subplot(211)\n",
    "plt.plot(np.arange(500),y_train,'go-',label ='trainset')\n",
    "plt.legend()\n",
    "plt.subplot(212)\n",
    "plt.plot(np.arange(100),y_test,'ro-',label = 'testset')\n",
    "plt.legend()\n",
    "plt.show()"
   ]
  },
  {
   "cell_type": "markdown",
   "metadata": {},
   "source": [
    "1. np.linspace() \n",
    "https://blog.csdn.net/you_are_my_dream/article/details/53493752\n",
    "2. numpy.random.random()　生成随机浮点数 \n",
    "https://blog.csdn.net/akadiao/article/details/78252840?locationNum=9&fps=1\n",
    "3. zip()函数\n",
    "http://www.runoob.com/python/python-func-zip.html"
   ]
  },
  {
   "cell_type": "code",
   "execution_count": 3,
   "metadata": {},
   "outputs": [
    {
     "data": {
      "text/plain": [
       "array([ 0.28274127])"
      ]
     },
     "execution_count": 3,
     "metadata": {},
     "output_type": "execute_result"
    }
   ],
   "source": [
    "np.random.random(1)"
   ]
  },
  {
   "cell_type": "code",
   "execution_count": 8,
   "metadata": {},
   "outputs": [],
   "source": [
    "a = [1,2,3]\n",
    "b = [4,5,6]\n",
    "c = [4,5,6,7,8]\n",
    "zipped = zip(a,b)  # [(1, 4), (2, 5), (3, 6)] 打包为元组的列表\n",
    "zip(a,c)   # [(1, 4), (2, 5), (3, 6)] 元素个数与最短的列表一致"
   ]
  },
  {
   "cell_type": "code",
   "execution_count": null,
   "metadata": {},
   "outputs": [],
   "source": []
  }
 ],
 "metadata": {
  "kernelspec": {
   "display_name": "Python 3",
   "language": "python",
   "name": "python3"
  },
  "language_info": {
   "codemirror_mode": {
    "name": "ipython",
    "version": 3
   },
   "file_extension": ".py",
   "mimetype": "text/x-python",
   "name": "python",
   "nbconvert_exporter": "python",
   "pygments_lexer": "ipython3",
   "version": "3.6.4"
  }
 },
 "nbformat": 4,
 "nbformat_minor": 2
}
